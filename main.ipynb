{
 "cells": [
  {
   "cell_type": "markdown",
   "source": [
    "# İş Problemi"
   ],
   "metadata": {
    "collapsed": false
   },
   "id": "f6deb1f6ab3db302"
  },
  {
   "cell_type": "markdown",
   "source": [
    "Türkiye’nin en büyük online hizmet platformu olan Armut, hizmet verenler ile hizmet almak isteyenleri buluşturmaktadır.Bilgisayarın veya akıllı telefonunun üzerinden birkaç dokunuşla temizlik, tadilat, nakliyat gibi hizmetlere kolayca ulaşılmasını sağlamaktadır.Hizmet alan kullanıcıları ve bu kullanıcıların almış oldukları servis ve kategorileri içeren veri setini kullanarak Association Rule Learning ile ürün tavsiye sistemi oluşturulmak istenmektedir.\n"
   ],
   "metadata": {
    "collapsed": false
   },
   "id": "9025b33abc85c54f"
  },
  {
   "cell_type": "markdown",
   "source": [
    "# Veri Seti"
   ],
   "metadata": {
    "collapsed": false
   },
   "id": "b720c8934f1a23d9"
  },
  {
   "cell_type": "markdown",
   "source": [
    "Veri seti müşterilerin aldıkları servislerden ve bu servislerin kategorilerinden oluşmaktadır. Alınan her hizmetin tarih ve saat bilgisini içermektedir."
   ],
   "metadata": {
    "collapsed": false
   },
   "id": "441c27716f4adcd7"
  },
  {
   "cell_type": "markdown",
   "source": [
    "* **UserId:** Müşteri numarası\n",
    "* **ServiceId:** Her kategoriye ait anonimleştirilmiş servislerdir. (Örnek : Temizlik kategorisi altında koltuk yıkama servisi) Bir ServiceId farklı kategoriler altında bulanabilir ve farklı kategoriler altında farklı servisleri ifade eder.(Örnek: CategoryId’si 7 ServiceId’si 4 olan hizmet petek temizliği iken CategoryId’si 2 ServiceId’si 4 olan hizmet mobilya montaj)\n",
    "* **CategoryId:** Anonimleştirilmiş kategorilerdir. (Örnek : Temizlik, nakliyat, tadilat kategorisi)\n",
    "* **CreateDate:** Hizmetin satın alındığı tarih\n"
   ],
   "metadata": {
    "collapsed": false
   },
   "id": "e02d2fb868a3fde0"
  },
  {
   "cell_type": "markdown",
   "source": [
    "## 1- Veriyi Hazırlama"
   ],
   "metadata": {
    "collapsed": false
   },
   "id": "423b83b57f51f41"
  },
  {
   "cell_type": "code",
   "outputs": [],
   "source": [
    "# Gerekli kütüphanelerin import edilmesi\n",
    "import pandas as pd\n",
    "pd.set_option('display.max_columns', None)\n",
    "# pd.set_option('display.max_rows', None)\n",
    "pd.set_option('display.width', 500)\n",
    "# çıktının tek bir satırda olmasını sağlar.\n",
    "pd.set_option('display.expand_frame_repr', False)\n",
    "from mlxtend.frequent_patterns import apriori, association_rules\n",
    "import warnings\n",
    "warnings.filterwarnings(\"ignore\")"
   ],
   "metadata": {
    "collapsed": false,
    "ExecuteTime": {
     "end_time": "2024-09-24T23:33:10.500267Z",
     "start_time": "2024-09-24T23:33:10.280507Z"
    }
   },
   "id": "6ba3ff26edb1323c",
   "execution_count": 1
  },
  {
   "cell_type": "code",
   "outputs": [
    {
     "data": {
      "text/plain": "   UserId  ServiceId  CategoryId           CreateDate\n0   25446          4           5  2017-08-06 16:11:00\n1   22948         48           5  2017-08-06 16:12:00\n2   10618          0           8  2017-08-06 16:13:00\n3    7256          9           4  2017-08-06 16:14:00\n4   25446         48           5  2017-08-06 16:16:00",
      "text/html": "<div>\n<style scoped>\n    .dataframe tbody tr th:only-of-type {\n        vertical-align: middle;\n    }\n\n    .dataframe tbody tr th {\n        vertical-align: top;\n    }\n\n    .dataframe thead th {\n        text-align: right;\n    }\n</style>\n<table border=\"1\" class=\"dataframe\">\n  <thead>\n    <tr style=\"text-align: right;\">\n      <th></th>\n      <th>UserId</th>\n      <th>ServiceId</th>\n      <th>CategoryId</th>\n      <th>CreateDate</th>\n    </tr>\n  </thead>\n  <tbody>\n    <tr>\n      <th>0</th>\n      <td>25446</td>\n      <td>4</td>\n      <td>5</td>\n      <td>2017-08-06 16:11:00</td>\n    </tr>\n    <tr>\n      <th>1</th>\n      <td>22948</td>\n      <td>48</td>\n      <td>5</td>\n      <td>2017-08-06 16:12:00</td>\n    </tr>\n    <tr>\n      <th>2</th>\n      <td>10618</td>\n      <td>0</td>\n      <td>8</td>\n      <td>2017-08-06 16:13:00</td>\n    </tr>\n    <tr>\n      <th>3</th>\n      <td>7256</td>\n      <td>9</td>\n      <td>4</td>\n      <td>2017-08-06 16:14:00</td>\n    </tr>\n    <tr>\n      <th>4</th>\n      <td>25446</td>\n      <td>48</td>\n      <td>5</td>\n      <td>2017-08-06 16:16:00</td>\n    </tr>\n  </tbody>\n</table>\n</div>"
     },
     "execution_count": 4,
     "metadata": {},
     "output_type": "execute_result"
    }
   ],
   "source": [
    "# Veri setinin okutulması\n",
    "df_ = pd.read_csv(\"armut_data.csv\")\n",
    "df = df_.copy()\n",
    "df.head()"
   ],
   "metadata": {
    "collapsed": false,
    "ExecuteTime": {
     "end_time": "2024-09-24T23:34:37.782335Z",
     "start_time": "2024-09-24T23:34:37.727326Z"
    }
   },
   "id": "daeebcf35ce0d732",
   "execution_count": 4
  },
  {
   "cell_type": "code",
   "outputs": [
    {
     "data": {
      "text/plain": "   UserId  ServiceId  CategoryId           CreateDate Hizmet\n0   25446          4           5  2017-08-06 16:11:00    4_5\n1   22948         48           5  2017-08-06 16:12:00   48_5\n2   10618          0           8  2017-08-06 16:13:00    0_8\n3    7256          9           4  2017-08-06 16:14:00    9_4\n4   25446         48           5  2017-08-06 16:16:00   48_5",
      "text/html": "<div>\n<style scoped>\n    .dataframe tbody tr th:only-of-type {\n        vertical-align: middle;\n    }\n\n    .dataframe tbody tr th {\n        vertical-align: top;\n    }\n\n    .dataframe thead th {\n        text-align: right;\n    }\n</style>\n<table border=\"1\" class=\"dataframe\">\n  <thead>\n    <tr style=\"text-align: right;\">\n      <th></th>\n      <th>UserId</th>\n      <th>ServiceId</th>\n      <th>CategoryId</th>\n      <th>CreateDate</th>\n      <th>Hizmet</th>\n    </tr>\n  </thead>\n  <tbody>\n    <tr>\n      <th>0</th>\n      <td>25446</td>\n      <td>4</td>\n      <td>5</td>\n      <td>2017-08-06 16:11:00</td>\n      <td>4_5</td>\n    </tr>\n    <tr>\n      <th>1</th>\n      <td>22948</td>\n      <td>48</td>\n      <td>5</td>\n      <td>2017-08-06 16:12:00</td>\n      <td>48_5</td>\n    </tr>\n    <tr>\n      <th>2</th>\n      <td>10618</td>\n      <td>0</td>\n      <td>8</td>\n      <td>2017-08-06 16:13:00</td>\n      <td>0_8</td>\n    </tr>\n    <tr>\n      <th>3</th>\n      <td>7256</td>\n      <td>9</td>\n      <td>4</td>\n      <td>2017-08-06 16:14:00</td>\n      <td>9_4</td>\n    </tr>\n    <tr>\n      <th>4</th>\n      <td>25446</td>\n      <td>48</td>\n      <td>5</td>\n      <td>2017-08-06 16:16:00</td>\n      <td>48_5</td>\n    </tr>\n  </tbody>\n</table>\n</div>"
     },
     "execution_count": 6,
     "metadata": {},
     "output_type": "execute_result"
    }
   ],
   "source": [
    "# ServisID her bir CategoryID özelinde farklı bir hizmeti temsil etmektedir. ServiceID ve CategoryID'yi \"_\" ile birleştirerek hizmetleri temsil edecek yeni bir değişken oluşturunuz.\n",
    "\n",
    "df[\"Hizmet\"] = df[\"ServiceId\"].astype(str) + \"_\" + df[\"CategoryId\"].astype(str)\n",
    "df.head()"
   ],
   "metadata": {
    "collapsed": false,
    "ExecuteTime": {
     "end_time": "2024-09-24T23:35:30.928572Z",
     "start_time": "2024-09-24T23:35:30.849595Z"
    }
   },
   "id": "1a4bbe6a8f9c1b7f",
   "execution_count": 6
  },
  {
   "cell_type": "code",
   "outputs": [
    {
     "data": {
      "text/plain": "   UserId  ServiceId  CategoryId          CreateDate Hizmet\n0   25446          4           5 2017-08-06 16:11:00    4_5\n1   22948         48           5 2017-08-06 16:12:00   48_5\n2   10618          0           8 2017-08-06 16:13:00    0_8\n3    7256          9           4 2017-08-06 16:14:00    9_4\n4   25446         48           5 2017-08-06 16:16:00   48_5",
      "text/html": "<div>\n<style scoped>\n    .dataframe tbody tr th:only-of-type {\n        vertical-align: middle;\n    }\n\n    .dataframe tbody tr th {\n        vertical-align: top;\n    }\n\n    .dataframe thead th {\n        text-align: right;\n    }\n</style>\n<table border=\"1\" class=\"dataframe\">\n  <thead>\n    <tr style=\"text-align: right;\">\n      <th></th>\n      <th>UserId</th>\n      <th>ServiceId</th>\n      <th>CategoryId</th>\n      <th>CreateDate</th>\n      <th>Hizmet</th>\n    </tr>\n  </thead>\n  <tbody>\n    <tr>\n      <th>0</th>\n      <td>25446</td>\n      <td>4</td>\n      <td>5</td>\n      <td>2017-08-06 16:11:00</td>\n      <td>4_5</td>\n    </tr>\n    <tr>\n      <th>1</th>\n      <td>22948</td>\n      <td>48</td>\n      <td>5</td>\n      <td>2017-08-06 16:12:00</td>\n      <td>48_5</td>\n    </tr>\n    <tr>\n      <th>2</th>\n      <td>10618</td>\n      <td>0</td>\n      <td>8</td>\n      <td>2017-08-06 16:13:00</td>\n      <td>0_8</td>\n    </tr>\n    <tr>\n      <th>3</th>\n      <td>7256</td>\n      <td>9</td>\n      <td>4</td>\n      <td>2017-08-06 16:14:00</td>\n      <td>9_4</td>\n    </tr>\n    <tr>\n      <th>4</th>\n      <td>25446</td>\n      <td>48</td>\n      <td>5</td>\n      <td>2017-08-06 16:16:00</td>\n      <td>48_5</td>\n    </tr>\n  </tbody>\n</table>\n</div>"
     },
     "execution_count": 7,
     "metadata": {},
     "output_type": "execute_result"
    }
   ],
   "source": [
    "# Adım 3: Veri seti hizmetlerin alındığı tarih ve saatten oluşmaktadır, herhangi bir sepet tanımı (fatura vb. ) bulunmamaktadır.Association Rule Learning uygulayabilmek için bir sepet (fatura vb.) tanımı oluşturulması gerekmektedir. Burada sepet tanımı her bir müşterinin aylık aldığı hizmetlerdir. Örneğin; 7256 id'li müşteri 2017'in 8.ayında aldığı 9_4, 46_4 hizmetleri bir sepeti;\n",
    "# 2017’in 10.ayında aldığı  9_4, 38_4  hizmetleri başka bir sepeti ifade etmektedir. Sepetleri unique bir ID ile tanımlanması gerekmektedir.Bunun için öncelikle sadece yıl ve ay içeren yeni bir date değişkeni oluşturalım. UserID ve yeni oluşturduğumuz date değişkenini \"_\" ile birleştirirek ID adında yeni bir değişkene atayalım.\n",
    "\n",
    "df[\"CreateDate\"] = pd.to_datetime(df[\"CreateDate\"])\n",
    "df.head()"
   ],
   "metadata": {
    "collapsed": false,
    "ExecuteTime": {
     "end_time": "2024-09-24T23:36:45.694813Z",
     "start_time": "2024-09-24T23:36:45.646751Z"
    }
   },
   "id": "fe6776deb6749097",
   "execution_count": 7
  },
  {
   "cell_type": "code",
   "outputs": [
    {
     "name": "stdout",
     "output_type": "stream",
     "text": [
      "<class 'pandas.core.frame.DataFrame'>\n",
      "RangeIndex: 162523 entries, 0 to 162522\n",
      "Data columns (total 5 columns):\n",
      " #   Column      Non-Null Count   Dtype         \n",
      "---  ------      --------------   -----         \n",
      " 0   UserId      162523 non-null  int64         \n",
      " 1   ServiceId   162523 non-null  int64         \n",
      " 2   CategoryId  162523 non-null  int64         \n",
      " 3   CreateDate  162523 non-null  datetime64[ns]\n",
      " 4   Hizmet      162523 non-null  object        \n",
      "dtypes: datetime64[ns](1), int64(3), object(1)\n",
      "memory usage: 6.2+ MB\n"
     ]
    }
   ],
   "source": [
    "df.info()"
   ],
   "metadata": {
    "collapsed": false,
    "ExecuteTime": {
     "end_time": "2024-09-24T23:36:49.588211Z",
     "start_time": "2024-09-24T23:36:49.568948Z"
    }
   },
   "id": "e49deb27645c8020",
   "execution_count": 8
  },
  {
   "cell_type": "code",
   "outputs": [
    {
     "data": {
      "text/plain": "   UserId  ServiceId  CategoryId          CreateDate Hizmet new_date\n0   25446          4           5 2017-08-06 16:11:00    4_5  2017-08\n1   22948         48           5 2017-08-06 16:12:00   48_5  2017-08\n2   10618          0           8 2017-08-06 16:13:00    0_8  2017-08\n3    7256          9           4 2017-08-06 16:14:00    9_4  2017-08\n4   25446         48           5 2017-08-06 16:16:00   48_5  2017-08",
      "text/html": "<div>\n<style scoped>\n    .dataframe tbody tr th:only-of-type {\n        vertical-align: middle;\n    }\n\n    .dataframe tbody tr th {\n        vertical-align: top;\n    }\n\n    .dataframe thead th {\n        text-align: right;\n    }\n</style>\n<table border=\"1\" class=\"dataframe\">\n  <thead>\n    <tr style=\"text-align: right;\">\n      <th></th>\n      <th>UserId</th>\n      <th>ServiceId</th>\n      <th>CategoryId</th>\n      <th>CreateDate</th>\n      <th>Hizmet</th>\n      <th>new_date</th>\n    </tr>\n  </thead>\n  <tbody>\n    <tr>\n      <th>0</th>\n      <td>25446</td>\n      <td>4</td>\n      <td>5</td>\n      <td>2017-08-06 16:11:00</td>\n      <td>4_5</td>\n      <td>2017-08</td>\n    </tr>\n    <tr>\n      <th>1</th>\n      <td>22948</td>\n      <td>48</td>\n      <td>5</td>\n      <td>2017-08-06 16:12:00</td>\n      <td>48_5</td>\n      <td>2017-08</td>\n    </tr>\n    <tr>\n      <th>2</th>\n      <td>10618</td>\n      <td>0</td>\n      <td>8</td>\n      <td>2017-08-06 16:13:00</td>\n      <td>0_8</td>\n      <td>2017-08</td>\n    </tr>\n    <tr>\n      <th>3</th>\n      <td>7256</td>\n      <td>9</td>\n      <td>4</td>\n      <td>2017-08-06 16:14:00</td>\n      <td>9_4</td>\n      <td>2017-08</td>\n    </tr>\n    <tr>\n      <th>4</th>\n      <td>25446</td>\n      <td>48</td>\n      <td>5</td>\n      <td>2017-08-06 16:16:00</td>\n      <td>48_5</td>\n      <td>2017-08</td>\n    </tr>\n  </tbody>\n</table>\n</div>"
     },
     "execution_count": 9,
     "metadata": {},
     "output_type": "execute_result"
    }
   ],
   "source": [
    "df[\"new_date\"] = df[\"CreateDate\"].dt.strftime(\"%Y-%m\")\n",
    "df.head()"
   ],
   "metadata": {
    "collapsed": false,
    "ExecuteTime": {
     "end_time": "2024-09-24T23:37:12.118953Z",
     "start_time": "2024-09-24T23:37:11.860588Z"
    }
   },
   "id": "d8e7bb159ac3095a",
   "execution_count": 9
  },
  {
   "cell_type": "code",
   "outputs": [
    {
     "data": {
      "text/plain": "   UserId  ServiceId  CategoryId          CreateDate Hizmet new_date        SepetId\n0   25446          4           5 2017-08-06 16:11:00    4_5  2017-08  25446_2017-08\n1   22948         48           5 2017-08-06 16:12:00   48_5  2017-08  22948_2017-08\n2   10618          0           8 2017-08-06 16:13:00    0_8  2017-08  10618_2017-08\n3    7256          9           4 2017-08-06 16:14:00    9_4  2017-08   7256_2017-08\n4   25446         48           5 2017-08-06 16:16:00   48_5  2017-08  25446_2017-08",
      "text/html": "<div>\n<style scoped>\n    .dataframe tbody tr th:only-of-type {\n        vertical-align: middle;\n    }\n\n    .dataframe tbody tr th {\n        vertical-align: top;\n    }\n\n    .dataframe thead th {\n        text-align: right;\n    }\n</style>\n<table border=\"1\" class=\"dataframe\">\n  <thead>\n    <tr style=\"text-align: right;\">\n      <th></th>\n      <th>UserId</th>\n      <th>ServiceId</th>\n      <th>CategoryId</th>\n      <th>CreateDate</th>\n      <th>Hizmet</th>\n      <th>new_date</th>\n      <th>SepetId</th>\n    </tr>\n  </thead>\n  <tbody>\n    <tr>\n      <th>0</th>\n      <td>25446</td>\n      <td>4</td>\n      <td>5</td>\n      <td>2017-08-06 16:11:00</td>\n      <td>4_5</td>\n      <td>2017-08</td>\n      <td>25446_2017-08</td>\n    </tr>\n    <tr>\n      <th>1</th>\n      <td>22948</td>\n      <td>48</td>\n      <td>5</td>\n      <td>2017-08-06 16:12:00</td>\n      <td>48_5</td>\n      <td>2017-08</td>\n      <td>22948_2017-08</td>\n    </tr>\n    <tr>\n      <th>2</th>\n      <td>10618</td>\n      <td>0</td>\n      <td>8</td>\n      <td>2017-08-06 16:13:00</td>\n      <td>0_8</td>\n      <td>2017-08</td>\n      <td>10618_2017-08</td>\n    </tr>\n    <tr>\n      <th>3</th>\n      <td>7256</td>\n      <td>9</td>\n      <td>4</td>\n      <td>2017-08-06 16:14:00</td>\n      <td>9_4</td>\n      <td>2017-08</td>\n      <td>7256_2017-08</td>\n    </tr>\n    <tr>\n      <th>4</th>\n      <td>25446</td>\n      <td>48</td>\n      <td>5</td>\n      <td>2017-08-06 16:16:00</td>\n      <td>48_5</td>\n      <td>2017-08</td>\n      <td>25446_2017-08</td>\n    </tr>\n  </tbody>\n</table>\n</div>"
     },
     "execution_count": 10,
     "metadata": {},
     "output_type": "execute_result"
    }
   ],
   "source": [
    "df[\"SepetId\"] = df[\"UserId\"].astype(str) + \"_\" + df[\"new_date\"]\n",
    "df.head()"
   ],
   "metadata": {
    "collapsed": false,
    "ExecuteTime": {
     "end_time": "2024-09-24T23:37:24.347408Z",
     "start_time": "2024-09-24T23:37:24.298406Z"
    }
   },
   "id": "5f60f46bd11ecbd",
   "execution_count": 10
  },
  {
   "cell_type": "markdown",
   "source": [
    "## 2- Birliktelik Kurallarının Üretilmesi"
   ],
   "metadata": {
    "collapsed": false
   },
   "id": "aa4a8f6cdb803848"
  },
  {
   "cell_type": "code",
   "outputs": [
    {
     "data": {
      "text/plain": "Hizmet         0_8  10_9  11_11  12_7  13_11  14_7  15_1  16_8  17_5  18_4  19_6  1_4  20_5  21_5  22_0  23_10  24_10  25_0  26_7  27_7  28_4  29_0  2_0  30_2  31_6  32_4  33_4  34_6  35_11  36_1  37_0  38_4  39_10  3_5  40_8  41_3  42_1  43_2  44_0  45_6  46_4  47_7  48_5  49_1  4_5  5_11  6_7  7_3  8_5  9_4\nSepetId                                                                                                                                                                                                                                                                                                               \n0_2017-08        0     0      0     0      0     0     0     0     0     0     0    0     0     0     0      0      0     0     0     0     0     0    0     0     0     0     0     0      0     0     0     0      0    0     0     0     0     0     0     0     1     0     1     0    0     0    0    0    0    0\n0_2017-09        0     0      0     0      0     0     0     0     0     0     0    0     0     0     0      0      0     0     0     0     0     0    0     0     0     0     0     0      0     0     0     0      0    0     0     0     0     0     0     0     0     0     1     0    1     0    0    0    0    0\n0_2018-01        0     0      0     0      0     0     0     0     0     0     0    0     0     0     0      0      0     0     0     0     0     0    0     1     0     0     0     0      0     0     0     0      0    0     0     0     0     1     0     0     0     0     0     0    0     0    0    1    0    0\n0_2018-04        0     0      0     0      0     1     0     0     0     0     0    0     0     0     0      0      0     0     0     0     0     0    0     1     0     0     0     0      0     0     0     0      0    0     0     0     0     1     0     0     0     0     0     0    0     0    0    0    0    0\n10000_2017-08    0     0      0     0      0     0     0     0     0     0     0    0     0     0     0      0      0     0     0     0     0     0    0     0     0     0     0     0      0     0     0     0      0    0     0     0     0     0     0     0     1     0     0     0    0     0    0    0    0    0",
      "text/html": "<div>\n<style scoped>\n    .dataframe tbody tr th:only-of-type {\n        vertical-align: middle;\n    }\n\n    .dataframe tbody tr th {\n        vertical-align: top;\n    }\n\n    .dataframe thead th {\n        text-align: right;\n    }\n</style>\n<table border=\"1\" class=\"dataframe\">\n  <thead>\n    <tr style=\"text-align: right;\">\n      <th>Hizmet</th>\n      <th>0_8</th>\n      <th>10_9</th>\n      <th>11_11</th>\n      <th>12_7</th>\n      <th>13_11</th>\n      <th>14_7</th>\n      <th>15_1</th>\n      <th>16_8</th>\n      <th>17_5</th>\n      <th>18_4</th>\n      <th>19_6</th>\n      <th>1_4</th>\n      <th>20_5</th>\n      <th>21_5</th>\n      <th>22_0</th>\n      <th>23_10</th>\n      <th>24_10</th>\n      <th>25_0</th>\n      <th>26_7</th>\n      <th>27_7</th>\n      <th>28_4</th>\n      <th>29_0</th>\n      <th>2_0</th>\n      <th>30_2</th>\n      <th>31_6</th>\n      <th>32_4</th>\n      <th>33_4</th>\n      <th>34_6</th>\n      <th>35_11</th>\n      <th>36_1</th>\n      <th>37_0</th>\n      <th>38_4</th>\n      <th>39_10</th>\n      <th>3_5</th>\n      <th>40_8</th>\n      <th>41_3</th>\n      <th>42_1</th>\n      <th>43_2</th>\n      <th>44_0</th>\n      <th>45_6</th>\n      <th>46_4</th>\n      <th>47_7</th>\n      <th>48_5</th>\n      <th>49_1</th>\n      <th>4_5</th>\n      <th>5_11</th>\n      <th>6_7</th>\n      <th>7_3</th>\n      <th>8_5</th>\n      <th>9_4</th>\n    </tr>\n    <tr>\n      <th>SepetId</th>\n      <th></th>\n      <th></th>\n      <th></th>\n      <th></th>\n      <th></th>\n      <th></th>\n      <th></th>\n      <th></th>\n      <th></th>\n      <th></th>\n      <th></th>\n      <th></th>\n      <th></th>\n      <th></th>\n      <th></th>\n      <th></th>\n      <th></th>\n      <th></th>\n      <th></th>\n      <th></th>\n      <th></th>\n      <th></th>\n      <th></th>\n      <th></th>\n      <th></th>\n      <th></th>\n      <th></th>\n      <th></th>\n      <th></th>\n      <th></th>\n      <th></th>\n      <th></th>\n      <th></th>\n      <th></th>\n      <th></th>\n      <th></th>\n      <th></th>\n      <th></th>\n      <th></th>\n      <th></th>\n      <th></th>\n      <th></th>\n      <th></th>\n      <th></th>\n      <th></th>\n      <th></th>\n      <th></th>\n      <th></th>\n      <th></th>\n      <th></th>\n    </tr>\n  </thead>\n  <tbody>\n    <tr>\n      <th>0_2017-08</th>\n      <td>0</td>\n      <td>0</td>\n      <td>0</td>\n      <td>0</td>\n      <td>0</td>\n      <td>0</td>\n      <td>0</td>\n      <td>0</td>\n      <td>0</td>\n      <td>0</td>\n      <td>0</td>\n      <td>0</td>\n      <td>0</td>\n      <td>0</td>\n      <td>0</td>\n      <td>0</td>\n      <td>0</td>\n      <td>0</td>\n      <td>0</td>\n      <td>0</td>\n      <td>0</td>\n      <td>0</td>\n      <td>0</td>\n      <td>0</td>\n      <td>0</td>\n      <td>0</td>\n      <td>0</td>\n      <td>0</td>\n      <td>0</td>\n      <td>0</td>\n      <td>0</td>\n      <td>0</td>\n      <td>0</td>\n      <td>0</td>\n      <td>0</td>\n      <td>0</td>\n      <td>0</td>\n      <td>0</td>\n      <td>0</td>\n      <td>0</td>\n      <td>1</td>\n      <td>0</td>\n      <td>1</td>\n      <td>0</td>\n      <td>0</td>\n      <td>0</td>\n      <td>0</td>\n      <td>0</td>\n      <td>0</td>\n      <td>0</td>\n    </tr>\n    <tr>\n      <th>0_2017-09</th>\n      <td>0</td>\n      <td>0</td>\n      <td>0</td>\n      <td>0</td>\n      <td>0</td>\n      <td>0</td>\n      <td>0</td>\n      <td>0</td>\n      <td>0</td>\n      <td>0</td>\n      <td>0</td>\n      <td>0</td>\n      <td>0</td>\n      <td>0</td>\n      <td>0</td>\n      <td>0</td>\n      <td>0</td>\n      <td>0</td>\n      <td>0</td>\n      <td>0</td>\n      <td>0</td>\n      <td>0</td>\n      <td>0</td>\n      <td>0</td>\n      <td>0</td>\n      <td>0</td>\n      <td>0</td>\n      <td>0</td>\n      <td>0</td>\n      <td>0</td>\n      <td>0</td>\n      <td>0</td>\n      <td>0</td>\n      <td>0</td>\n      <td>0</td>\n      <td>0</td>\n      <td>0</td>\n      <td>0</td>\n      <td>0</td>\n      <td>0</td>\n      <td>0</td>\n      <td>0</td>\n      <td>1</td>\n      <td>0</td>\n      <td>1</td>\n      <td>0</td>\n      <td>0</td>\n      <td>0</td>\n      <td>0</td>\n      <td>0</td>\n    </tr>\n    <tr>\n      <th>0_2018-01</th>\n      <td>0</td>\n      <td>0</td>\n      <td>0</td>\n      <td>0</td>\n      <td>0</td>\n      <td>0</td>\n      <td>0</td>\n      <td>0</td>\n      <td>0</td>\n      <td>0</td>\n      <td>0</td>\n      <td>0</td>\n      <td>0</td>\n      <td>0</td>\n      <td>0</td>\n      <td>0</td>\n      <td>0</td>\n      <td>0</td>\n      <td>0</td>\n      <td>0</td>\n      <td>0</td>\n      <td>0</td>\n      <td>0</td>\n      <td>1</td>\n      <td>0</td>\n      <td>0</td>\n      <td>0</td>\n      <td>0</td>\n      <td>0</td>\n      <td>0</td>\n      <td>0</td>\n      <td>0</td>\n      <td>0</td>\n      <td>0</td>\n      <td>0</td>\n      <td>0</td>\n      <td>0</td>\n      <td>1</td>\n      <td>0</td>\n      <td>0</td>\n      <td>0</td>\n      <td>0</td>\n      <td>0</td>\n      <td>0</td>\n      <td>0</td>\n      <td>0</td>\n      <td>0</td>\n      <td>1</td>\n      <td>0</td>\n      <td>0</td>\n    </tr>\n    <tr>\n      <th>0_2018-04</th>\n      <td>0</td>\n      <td>0</td>\n      <td>0</td>\n      <td>0</td>\n      <td>0</td>\n      <td>1</td>\n      <td>0</td>\n      <td>0</td>\n      <td>0</td>\n      <td>0</td>\n      <td>0</td>\n      <td>0</td>\n      <td>0</td>\n      <td>0</td>\n      <td>0</td>\n      <td>0</td>\n      <td>0</td>\n      <td>0</td>\n      <td>0</td>\n      <td>0</td>\n      <td>0</td>\n      <td>0</td>\n      <td>0</td>\n      <td>1</td>\n      <td>0</td>\n      <td>0</td>\n      <td>0</td>\n      <td>0</td>\n      <td>0</td>\n      <td>0</td>\n      <td>0</td>\n      <td>0</td>\n      <td>0</td>\n      <td>0</td>\n      <td>0</td>\n      <td>0</td>\n      <td>0</td>\n      <td>1</td>\n      <td>0</td>\n      <td>0</td>\n      <td>0</td>\n      <td>0</td>\n      <td>0</td>\n      <td>0</td>\n      <td>0</td>\n      <td>0</td>\n      <td>0</td>\n      <td>0</td>\n      <td>0</td>\n      <td>0</td>\n    </tr>\n    <tr>\n      <th>10000_2017-08</th>\n      <td>0</td>\n      <td>0</td>\n      <td>0</td>\n      <td>0</td>\n      <td>0</td>\n      <td>0</td>\n      <td>0</td>\n      <td>0</td>\n      <td>0</td>\n      <td>0</td>\n      <td>0</td>\n      <td>0</td>\n      <td>0</td>\n      <td>0</td>\n      <td>0</td>\n      <td>0</td>\n      <td>0</td>\n      <td>0</td>\n      <td>0</td>\n      <td>0</td>\n      <td>0</td>\n      <td>0</td>\n      <td>0</td>\n      <td>0</td>\n      <td>0</td>\n      <td>0</td>\n      <td>0</td>\n      <td>0</td>\n      <td>0</td>\n      <td>0</td>\n      <td>0</td>\n      <td>0</td>\n      <td>0</td>\n      <td>0</td>\n      <td>0</td>\n      <td>0</td>\n      <td>0</td>\n      <td>0</td>\n      <td>0</td>\n      <td>0</td>\n      <td>1</td>\n      <td>0</td>\n      <td>0</td>\n      <td>0</td>\n      <td>0</td>\n      <td>0</td>\n      <td>0</td>\n      <td>0</td>\n      <td>0</td>\n      <td>0</td>\n    </tr>\n  </tbody>\n</table>\n</div>"
     },
     "execution_count": 11,
     "metadata": {},
     "output_type": "execute_result"
    }
   ],
   "source": [
    "# sepet hizmet pivot table’i oluşturulması\n",
    "\n",
    "invoice_product_df = df.groupby([\"SepetId\", \"Hizmet\"])[\"Hizmet\"].count().unstack().fillna(0).applymap(lambda x: 1 if x > 0 else 0)\n",
    "invoice_product_df.head()"
   ],
   "metadata": {
    "collapsed": false,
    "ExecuteTime": {
     "end_time": "2024-09-24T23:39:10.989508Z",
     "start_time": "2024-09-24T23:39:10.302440Z"
    }
   },
   "id": "b110afa7b99545ab",
   "execution_count": 11
  },
  {
   "cell_type": "code",
   "outputs": [
    {
     "data": {
      "text/plain": "  antecedents consequents  antecedent support  consequent support   support  confidence      lift  leverage  conviction  zhangs_metric\n0     (13_11)       (2_0)            0.056627            0.130286  0.012819    0.226382  1.737574  0.005442    1.124216       0.449965\n1       (2_0)     (13_11)            0.130286            0.056627  0.012819    0.098394  1.737574  0.005442    1.046325       0.488074\n2      (15_1)       (2_0)            0.120963            0.130286  0.033951    0.280673  2.154278  0.018191    1.209066       0.609539\n3       (2_0)      (15_1)            0.130286            0.120963  0.033951    0.260588  2.154278  0.018191    1.188833       0.616073\n4      (33_4)      (15_1)            0.027310            0.120963  0.011233    0.411311  3.400299  0.007929    1.493211       0.725728",
      "text/html": "<div>\n<style scoped>\n    .dataframe tbody tr th:only-of-type {\n        vertical-align: middle;\n    }\n\n    .dataframe tbody tr th {\n        vertical-align: top;\n    }\n\n    .dataframe thead th {\n        text-align: right;\n    }\n</style>\n<table border=\"1\" class=\"dataframe\">\n  <thead>\n    <tr style=\"text-align: right;\">\n      <th></th>\n      <th>antecedents</th>\n      <th>consequents</th>\n      <th>antecedent support</th>\n      <th>consequent support</th>\n      <th>support</th>\n      <th>confidence</th>\n      <th>lift</th>\n      <th>leverage</th>\n      <th>conviction</th>\n      <th>zhangs_metric</th>\n    </tr>\n  </thead>\n  <tbody>\n    <tr>\n      <th>0</th>\n      <td>(13_11)</td>\n      <td>(2_0)</td>\n      <td>0.056627</td>\n      <td>0.130286</td>\n      <td>0.012819</td>\n      <td>0.226382</td>\n      <td>1.737574</td>\n      <td>0.005442</td>\n      <td>1.124216</td>\n      <td>0.449965</td>\n    </tr>\n    <tr>\n      <th>1</th>\n      <td>(2_0)</td>\n      <td>(13_11)</td>\n      <td>0.130286</td>\n      <td>0.056627</td>\n      <td>0.012819</td>\n      <td>0.098394</td>\n      <td>1.737574</td>\n      <td>0.005442</td>\n      <td>1.046325</td>\n      <td>0.488074</td>\n    </tr>\n    <tr>\n      <th>2</th>\n      <td>(15_1)</td>\n      <td>(2_0)</td>\n      <td>0.120963</td>\n      <td>0.130286</td>\n      <td>0.033951</td>\n      <td>0.280673</td>\n      <td>2.154278</td>\n      <td>0.018191</td>\n      <td>1.209066</td>\n      <td>0.609539</td>\n    </tr>\n    <tr>\n      <th>3</th>\n      <td>(2_0)</td>\n      <td>(15_1)</td>\n      <td>0.130286</td>\n      <td>0.120963</td>\n      <td>0.033951</td>\n      <td>0.260588</td>\n      <td>2.154278</td>\n      <td>0.018191</td>\n      <td>1.188833</td>\n      <td>0.616073</td>\n    </tr>\n    <tr>\n      <th>4</th>\n      <td>(33_4)</td>\n      <td>(15_1)</td>\n      <td>0.027310</td>\n      <td>0.120963</td>\n      <td>0.011233</td>\n      <td>0.411311</td>\n      <td>3.400299</td>\n      <td>0.007929</td>\n      <td>1.493211</td>\n      <td>0.725728</td>\n    </tr>\n  </tbody>\n</table>\n</div>"
     },
     "execution_count": 12,
     "metadata": {},
     "output_type": "execute_result"
    }
   ],
   "source": [
    "# Birliktelik kurallarının oluşturulması\n",
    "\n",
    "frequent_items = apriori(invoice_product_df, min_support=0.01, use_colnames=True)\n",
    "rules = association_rules(frequent_items, metric=\"support\", min_threshold=0.01)\n",
    "rules.head()"
   ],
   "metadata": {
    "collapsed": false,
    "ExecuteTime": {
     "end_time": "2024-09-24T23:39:52.490916Z",
     "start_time": "2024-09-24T23:39:52.110858Z"
    }
   },
   "id": "ba4b690928ed38e8",
   "execution_count": 12
  },
  {
   "cell_type": "markdown",
   "source": [
    "## 3- Projenin Fonksiyonlaştırılması"
   ],
   "metadata": {
    "collapsed": false
   },
   "id": "791a9b93a3322041"
  },
  {
   "cell_type": "code",
   "outputs": [
    {
     "name": "stdout",
     "output_type": "stream",
     "text": [
      "13     22_0\n",
      "14     25_0\n",
      "3      15_1\n",
      "1     13_11\n",
      "17     38_4\n",
      "Name: consequents, dtype: object\n"
     ]
    }
   ],
   "source": [
    "def arl_recommendation(df, hizmet, min_support=0.01, metric=\"support\", min_threshold=0.01, rec_count=1):\n",
    "    from mlxtend.frequent_patterns import apriori, association_rules\n",
    "\n",
    "    # Sepet-hizmet pivot table oluşturma\n",
    "    invoice_product_df = df.groupby([\"SepetId\", \"Hizmet\"])[\"Hizmet\"].count().unstack().fillna(0).applymap(\n",
    "        lambda x: 1 if x > 0 else 0)\n",
    "\n",
    "    # Apriori algoritması ile sık hizmet kümelerini bulma\n",
    "    frequent_items = apriori(invoice_product_df, min_support=min_support, use_colnames=True)\n",
    "\n",
    "    # Birliktelik kurallarını oluşturma\n",
    "    rules = association_rules(frequent_items, metric=metric, min_threshold=min_threshold)\n",
    "\n",
    "    # Seçilen hizmeti içeren kuralları filtrele\n",
    "    sorted_rules = rules[rules[\"antecedents\"].apply(lambda x: hizmet in x)].sort_values(\"lift\", ascending=False)\n",
    "\n",
    "    # Önerilecek hizmet sayısı kadar öneriyi al\n",
    "    recommendations = sorted_rules[\"consequents\"].apply(lambda x: list(x)[0]).head(rec_count)\n",
    "\n",
    "    return recommendations\n",
    "\n",
    "\n",
    "# Fonksiyonu çağırarak 2_0 hizmetine göre önerilerde bulunma\n",
    "recommended_services = arl_recommendation(df, \"2_0\", rec_count=5)\n",
    "print(recommended_services)\n"
   ],
   "metadata": {
    "collapsed": false,
    "ExecuteTime": {
     "end_time": "2024-09-24T23:40:37.267068Z",
     "start_time": "2024-09-24T23:40:36.269061Z"
    }
   },
   "id": "6d10b7235b3a95ae",
   "execution_count": 13
  }
 ],
 "metadata": {
  "kernelspec": {
   "display_name": "Python 3",
   "language": "python",
   "name": "python3"
  },
  "language_info": {
   "codemirror_mode": {
    "name": "ipython",
    "version": 2
   },
   "file_extension": ".py",
   "mimetype": "text/x-python",
   "name": "python",
   "nbconvert_exporter": "python",
   "pygments_lexer": "ipython2",
   "version": "2.7.6"
  }
 },
 "nbformat": 4,
 "nbformat_minor": 5
}
